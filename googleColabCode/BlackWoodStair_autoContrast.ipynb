{
  "nbformat": 4,
  "nbformat_minor": 0,
  "metadata": {
    "colab": {
      "provenance": [],
      "gpuType": "T4"
    },
    "kernelspec": {
      "name": "python3",
      "display_name": "Python 3"
    },
    "language_info": {
      "name": "python"
    },
    "accelerator": "GPU"
  },
  "cells": [
    {
      "cell_type": "code",
      "execution_count": null,
      "metadata": {
        "id": "X5xDi7wMRDfx",
        "collapsed": true
      },
      "outputs": [],
      "source": [
        "!curl -L \"https://app.roboflow.com/ds/apDGmzuuun?key=bj5M48w9NT\" > roboflow.zip; unzip roboflow.zip; rm roboflow.zip"
      ]
    },
    {
      "cell_type": "code",
      "source": [
        "%cd /content\n",
        "!git clone https://github.com/ultralytics/yolov5.git"
      ],
      "metadata": {
        "id": "d3EzFLkcRwWD",
        "collapsed": true
      },
      "execution_count": null,
      "outputs": []
    },
    {
      "cell_type": "code",
      "source": [
        "%cd /content/yolov5/\n",
        "!pip install -r requirements.txt"
      ],
      "metadata": {
        "id": "XGP6w7jhSHK0"
      },
      "execution_count": null,
      "outputs": []
    },
    {
      "cell_type": "code",
      "source": [
        "%cat /content/dataset/data.yaml\n"
      ],
      "metadata": {
        "id": "KgMO9TcsSNT0"
      },
      "execution_count": null,
      "outputs": []
    },
    {
      "cell_type": "code",
      "source": [
        "%cd /\n",
        "from glob import glob\n",
        "\n",
        "test_list = glob('/content/dataset/test/images/*.jpg')\n",
        "valid_list = glob('/content/dataset/valid/images/*.jpg')\n",
        "train_list = glob('/content/dataset/train/images/*.jpg')\n",
        "\n",
        "\n",
        "print(len(test_list))\n",
        "print(len(valid_list))\n",
        "print(len(train_list))\n",
        "\n"
      ],
      "metadata": {
        "id": "y8N-whDuWiIu"
      },
      "execution_count": null,
      "outputs": []
    },
    {
      "cell_type": "code",
      "source": [
        "with open('/content/dataset/train.txt', 'w') as f:\n",
        "  f.write('\\n'.join(train_list) + '\\n')\n",
        "\n",
        "with open('/content/dataset/val.txt', 'w') as f:\n",
        "  f.write('\\n'.join(valid_list) + '\\n')"
      ],
      "metadata": {
        "id": "sUwbBK9NW5J9"
      },
      "execution_count": null,
      "outputs": []
    },
    {
      "cell_type": "code",
      "source": [
        "import yaml\n",
        "\n",
        "with open('/content/dataset/data.yaml', 'r') as f:\n",
        "  data = yaml.safe_load(f)\n",
        "\n",
        "print(data)\n",
        "\n",
        "data['train'] = '/content/dataset/train.txt'\n",
        "data['val'] = '/content/dataset/val.txt'\n",
        "\n",
        "with open('/content/dataset/data.yaml', 'w') as f:\n",
        "  yaml.dump(data, f)\n",
        "\n",
        "print(data)"
      ],
      "metadata": {
        "id": "v73iuBj4Xh2g"
      },
      "execution_count": null,
      "outputs": []
    },
    {
      "cell_type": "code",
      "source": [
        "%cd /content/yolov5/\n",
        "!python train.py --img 416 --batch 16 --epochs 200 --data /content/dataset/data.yaml --cfg ./models/yolov5l.yaml --weights yolov5l.pt --name blackWoodStair"
      ],
      "metadata": {
        "id": "r7VRRSe2XpAL"
      },
      "execution_count": null,
      "outputs": []
    },
    {
      "cell_type": "code",
      "source": [],
      "metadata": {
        "id": "Wj6mGFG85KoM"
      },
      "execution_count": null,
      "outputs": []
    },
    {
      "cell_type": "code",
      "source": [],
      "metadata": {
        "id": "4KpPvHEgYYCi"
      },
      "execution_count": null,
      "outputs": []
    }
  ]
}